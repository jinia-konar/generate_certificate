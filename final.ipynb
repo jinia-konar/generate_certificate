{
 "cells": [
  {
   "cell_type": "code",
   "execution_count": 8,
   "metadata": {},
   "outputs": [],
   "source": [
    "import numpy as np\n",
    "import cv2\n",
    "import pandas as pd\n",
    "df=pd.read_csv(\"names.csv\")\n",
    "for row in range(df.shape[0]):\n",
    "    img=cv2.imread(\"c certi.jpg\",cv2.IMREAD_COLOR)\n",
    "    font=cv2.FONT_ITALIC\n",
    "    cv2.putText(img,df.iloc[row,0],(1900,1050),font,2,(0,0,0),2,cv2.LINE_AA)\n",
    "    cv2.putText(img,df.iloc[row,1],(1550,1150),font,2,(0,0,0),2,cv2.LINE_AA)\n",
    "    filename=\"C:/Users/arinia/Documents/6 sem notes/vision certificate/images//\"+df.iloc[row,0]+\".jpg\"\n",
    "    cv2.imwrite(filename,img)\n",
    "    small=cv2.resize(img,(0,0),fx=0.4,fy=0.4)\n",
    "    cv2.imshow('image',small)\n",
    "    cv2.waitKey(0)\n",
    "    cv2.destroyAllWindows()"
   ]
  },
  {
   "cell_type": "code",
   "execution_count": 9,
   "metadata": {},
   "outputs": [
    {
     "name": "stdout",
     "output_type": "stream",
     "text": [
      "Success: Email sent!\n",
      "Success: Email sent!\n",
      "Success: Email sent!\n",
      "Success: Email sent!\n",
      "Success: Email sent!\n"
     ]
    }
   ],
   "source": [
    "import smtplib,os\n",
    "from email.mime.text import MIMEText\n",
    "from email.mime.multipart import MIMEMultipart\n",
    "from email.mime.base import MIMEBase\n",
    "from email.mime.image import MIMEImage\n",
    "from email import encoders\n",
    "import pandas as pd \n",
    "\n",
    "def send_email(subject, msg, toemail ,row):\n",
    "    try:\n",
    "        msj=MIMEMultipart()\n",
    "        msj['From']='p1i2n3k4s5@gmail.com'\n",
    "        msj['To']=toemail\n",
    "        msj['Subject']=subject\n",
    "\n",
    "        message=msg\n",
    "        msj.attach(MIMEText(message,'Plain'))\n",
    "\n",
    "        filename=\"C:/Users/arinia/Documents/6 sem notes/vision certificate/images//\"+df.iloc[row,0]+\".jpg\"\n",
    "        img_data = open(filename, 'rb').read()\n",
    "\n",
    "        image = MIMEImage(img_data, name=os.path.basename(filename))\n",
    "        msj.attach(image)\n",
    "        text=msj.as_string()\n",
    "        s=smtplib.SMTP('smtp.gmail.com',587)\n",
    "        s.starttls()\n",
    "        s.login(\"p1i2n3k4s5@gmail.com\",\"pinks1234\")\n",
    "\n",
    "        s.sendmail(\"p1i2n3k4s5@gmail.com\",toemail,text)\n",
    "        s.quit()\n",
    "        print(\"Success: Email sent!\")\n",
    "    except:\n",
    "        print(\"Email failed to send.\")\n",
    "\n",
    "\n",
    "for row in range(df.shape[0]):\n",
    "    subject = \"Certificate \"  # your subject here\n",
    "    msg = \"Thank you for participating in our event.\" # your message here\n",
    "    send_email(subject, msg, df.iloc[row,2],row)"
   ]
  },
  {
   "cell_type": "code",
   "execution_count": null,
   "metadata": {},
   "outputs": [],
   "source": []
  }
 ],
 "metadata": {
  "kernelspec": {
   "display_name": "Python 3",
   "language": "python",
   "name": "python3"
  },
  "language_info": {
   "codemirror_mode": {
    "name": "ipython",
    "version": 3
   },
   "file_extension": ".py",
   "mimetype": "text/x-python",
   "name": "python",
   "nbconvert_exporter": "python",
   "pygments_lexer": "ipython3",
   "version": "3.6.7"
  }
 },
 "nbformat": 4,
 "nbformat_minor": 2
}
