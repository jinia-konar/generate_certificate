{
 "cells": [
  {
   "cell_type": "code",
   "execution_count": 1,
   "metadata": {},
   "outputs": [],
   "source": [
    "import numpy as np\n",
    "import cv2"
   ]
  },
  {
   "cell_type": "code",
   "execution_count": 2,
   "metadata": {},
   "outputs": [],
   "source": [
    "img=cv2.imread(\"C:/Users/arinia/Pictures/certi1.jpg\",cv2.IMREAD_COLOR)"
   ]
  },
  {
   "cell_type": "code",
   "execution_count": 3,
   "metadata": {},
   "outputs": [],
   "source": [
    "font=cv2.FONT_ITALIC"
   ]
  },
  {
   "cell_type": "code",
   "execution_count": 4,
   "metadata": {},
   "outputs": [],
   "source": [
    "cv2.putText(img,\"Jinia Konar\",(160,120),font,0.9,(0,0,0),1,cv2.LINE_AA)\n",
    "cv2.putText(img,\"27-01-2019\",(50,255),font,0.5,(0,0,0),1,cv2.LINE_AA)\n",
    "cv2.putText(img,\"VsionManit\",(320,255),font,0.5,(0,0,0),1,cv2.LINE_AA)\n",
    "cv2.imshow('image',img)\n",
    "cv2.waitKey(0)\n",
    "cv2.destroyAllWindows()"
   ]
  },
  {
   "cell_type": "code",
   "execution_count": 5,
   "metadata": {},
   "outputs": [],
   "source": [
    "import pandas as pd"
   ]
  },
  {
   "cell_type": "code",
   "execution_count": 6,
   "metadata": {},
   "outputs": [
    {
     "data": {
      "text/html": [
       "<div>\n",
       "<style scoped>\n",
       "    .dataframe tbody tr th:only-of-type {\n",
       "        vertical-align: middle;\n",
       "    }\n",
       "\n",
       "    .dataframe tbody tr th {\n",
       "        vertical-align: top;\n",
       "    }\n",
       "\n",
       "    .dataframe thead th {\n",
       "        text-align: right;\n",
       "    }\n",
       "</style>\n",
       "<table border=\"1\" class=\"dataframe\">\n",
       "  <thead>\n",
       "    <tr style=\"text-align: right;\">\n",
       "      <th></th>\n",
       "      <th>names</th>\n",
       "      <th>date</th>\n",
       "    </tr>\n",
       "  </thead>\n",
       "  <tbody>\n",
       "    <tr>\n",
       "      <th>0</th>\n",
       "      <td>jinia</td>\n",
       "      <td>12-01-2019</td>\n",
       "    </tr>\n",
       "    <tr>\n",
       "      <th>1</th>\n",
       "      <td>siddhi</td>\n",
       "      <td>13-01-2019</td>\n",
       "    </tr>\n",
       "    <tr>\n",
       "      <th>2</th>\n",
       "      <td>himanshi</td>\n",
       "      <td>14-01-2019</td>\n",
       "    </tr>\n",
       "    <tr>\n",
       "      <th>3</th>\n",
       "      <td>nayan</td>\n",
       "      <td>15-01-2019</td>\n",
       "    </tr>\n",
       "    <tr>\n",
       "      <th>4</th>\n",
       "      <td>aniket</td>\n",
       "      <td>17-01-2019</td>\n",
       "    </tr>\n",
       "  </tbody>\n",
       "</table>\n",
       "</div>"
      ],
      "text/plain": [
       "      names        date\n",
       "0     jinia  12-01-2019\n",
       "1    siddhi  13-01-2019\n",
       "2  himanshi  14-01-2019\n",
       "3     nayan  15-01-2019\n",
       "4    aniket  17-01-2019"
      ]
     },
     "execution_count": 6,
     "metadata": {},
     "output_type": "execute_result"
    }
   ],
   "source": [
    "df=pd.read_csv(\"names.csv\")\n",
    "df"
   ]
  },
  {
   "cell_type": "code",
   "execution_count": 7,
   "metadata": {},
   "outputs": [
    {
     "name": "stdout",
     "output_type": "stream",
     "text": [
      "names\n",
      "date\n"
     ]
    }
   ],
   "source": [
    "for row in df:\n",
    "    print(row)"
   ]
  },
  {
   "cell_type": "code",
   "execution_count": 10,
   "metadata": {},
   "outputs": [
    {
     "data": {
      "text/plain": [
       "(5, 2)"
      ]
     },
     "execution_count": 10,
     "metadata": {},
     "output_type": "execute_result"
    }
   ],
   "source": [
    "df.shape"
   ]
  },
  {
   "cell_type": "code",
   "execution_count": 11,
   "metadata": {},
   "outputs": [
    {
     "name": "stdout",
     "output_type": "stream",
     "text": [
      "jinia\n",
      "12-01-2019\n",
      "siddhi\n",
      "13-01-2019\n",
      "himanshi\n",
      "14-01-2019\n",
      "nayan\n",
      "15-01-2019\n",
      "aniket\n",
      "17-01-2019\n"
     ]
    }
   ],
   "source": [
    "for row in range(df.shape[0]):\n",
    "    for col in range(df.shape[1]):\n",
    "        print(df.iloc[row,col])"
   ]
  },
  {
   "cell_type": "code",
   "execution_count": 14,
   "metadata": {},
   "outputs": [],
   "source": [
    "for row in range(df.shape[0]):\n",
    "    img=cv2.imread(\"C:/Users/arinia/Pictures/certi1.jpg\",cv2.IMREAD_COLOR)\n",
    "    font=cv2.FONT_ITALIC\n",
    "    cv2.putText(img,df.iloc[row,0],(160,120),font,0.9,(0,0,0),1,cv2.LINE_AA)\n",
    "    cv2.putText(img,df.iloc[row,1],(50,255),font,0.5,(0,0,0),1,cv2.LINE_AA)\n",
    "    cv2.putText(img,\"VsionManit\",(320,255),font,0.5,(0,0,0),1,cv2.LINE_AA)\n",
    "    cv2.imshow('image',img)\n",
    "    cv2.waitKey(0)\n",
    "    cv2.destroyAllWindows()"
   ]
  },
  {
   "cell_type": "code",
   "execution_count": null,
   "metadata": {},
   "outputs": [],
   "source": []
  }
 ],
 "metadata": {
  "kernelspec": {
   "display_name": "Python 3",
   "language": "python",
   "name": "python3"
  },
  "language_info": {
   "codemirror_mode": {
    "name": "ipython",
    "version": 3
   },
   "file_extension": ".py",
   "mimetype": "text/x-python",
   "name": "python",
   "nbconvert_exporter": "python",
   "pygments_lexer": "ipython3",
   "version": "3.6.7"
  }
 },
 "nbformat": 4,
 "nbformat_minor": 2
}
